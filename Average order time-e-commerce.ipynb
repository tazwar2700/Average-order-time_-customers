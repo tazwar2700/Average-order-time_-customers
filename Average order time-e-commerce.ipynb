{
 "cells": [
  {
   "cell_type": "code",
   "execution_count": 2,
   "metadata": {},
   "outputs": [],
   "source": [
    "import pandas as pd\n",
    "import numpy as np\n",
    "import scipy as sp\n"
   ]
  },
  {
   "cell_type": "code",
   "execution_count": 3,
   "metadata": {},
   "outputs": [],
   "source": [
    "# import libraries\n",
    "from datetime import datetime, timedelta\n",
    "%matplotlib inline\n",
    "import matplotlib.pyplot as plt\n",
    "import seaborn as sns"
   ]
  },
  {
   "cell_type": "code",
   "execution_count": 4,
   "metadata": {},
   "outputs": [],
   "source": [
    "from lifetimes.utils import *\n",
    "from lifetimes import BetaGeoFitter\n",
    "from lifetimes.plotting import plot_probability_alive_matrix, plot_frequency_recency_matrix\n",
    "from lifetimes.generate_data import beta_geometric_nbd_model\n"
   ]
  },
  {
   "cell_type": "code",
   "execution_count": 5,
   "metadata": {},
   "outputs": [],
   "source": [
    "from __future__ import division"
   ]
  },
  {
   "cell_type": "code",
   "execution_count": 6,
   "metadata": {},
   "outputs": [],
   "source": [
    "tx_data = pd.read_csv('deldata_5.csv', encoding = 'unicode_escape', low_memory=False)"
   ]
  },
  {
   "cell_type": "code",
   "execution_count": 7,
   "metadata": {},
   "outputs": [],
   "source": [
    "#converting the type of Invoice Date Field from string to datetime.\n",
    "tx_data['OrderCreatedAt'] = pd.to_datetime(tx_data['Order Created At'])"
   ]
  },
  {
   "cell_type": "code",
   "execution_count": 11,
   "metadata": {},
   "outputs": [
    {
     "data": {
      "text/html": [
       "<div>\n",
       "<style scoped>\n",
       "    .dataframe tbody tr th:only-of-type {\n",
       "        vertical-align: middle;\n",
       "    }\n",
       "\n",
       "    .dataframe tbody tr th {\n",
       "        vertical-align: top;\n",
       "    }\n",
       "\n",
       "    .dataframe thead th {\n",
       "        text-align: right;\n",
       "    }\n",
       "</style>\n",
       "<table border=\"1\" class=\"dataframe\">\n",
       "  <thead>\n",
       "    <tr style=\"text-align: right;\">\n",
       "      <th></th>\n",
       "      <th>Order_Code</th>\n",
       "      <th>Unique order count</th>\n",
       "      <th>Customer</th>\n",
       "      <th>Status</th>\n",
       "      <th>Payment Status</th>\n",
       "      <th>Channel</th>\n",
       "      <th>Shop name</th>\n",
       "      <th>Delivery Type</th>\n",
       "      <th>Location</th>\n",
       "      <th>Area</th>\n",
       "      <th>...</th>\n",
       "      <th>Category 3</th>\n",
       "      <th>Category 4</th>\n",
       "      <th>Category 5</th>\n",
       "      <th>Order Created At (Day)</th>\n",
       "      <th>Order Created At</th>\n",
       "      <th>Month Year</th>\n",
       "      <th>Unnamed: 39</th>\n",
       "      <th>Unnamed: 40</th>\n",
       "      <th>OrderCreatedAt</th>\n",
       "      <th>OrderCreatedMonth</th>\n",
       "    </tr>\n",
       "  </thead>\n",
       "  <tbody>\n",
       "    <tr>\n",
       "      <th>30244</th>\n",
       "      <td>DG-2-000001-118641</td>\n",
       "      <td>1</td>\n",
       "      <td>Md Shahnur Arefin - 01777770235</td>\n",
       "      <td>Delivered</td>\n",
       "      <td>Complete</td>\n",
       "      <td>Store Front</td>\n",
       "      <td>-</td>\n",
       "      <td>Home</td>\n",
       "      <td>Dhaka</td>\n",
       "      <td>Dhanmondi</td>\n",
       "      <td>...</td>\n",
       "      <td>NaN</td>\n",
       "      <td>NaN</td>\n",
       "      <td>NaN</td>\n",
       "      <td>Sat</td>\n",
       "      <td>August 31, 2019</td>\n",
       "      <td>August 2019</td>\n",
       "      <td>NaN</td>\n",
       "      <td>NaN</td>\n",
       "      <td>2019-08-31</td>\n",
       "      <td>201908</td>\n",
       "    </tr>\n",
       "    <tr>\n",
       "      <th>30245</th>\n",
       "      <td>DG-2-000001-118658</td>\n",
       "      <td>1</td>\n",
       "      <td>Anmol Ahmed Khan - 01686513885</td>\n",
       "      <td>Delivered</td>\n",
       "      <td>Complete</td>\n",
       "      <td>Store Front</td>\n",
       "      <td>-</td>\n",
       "      <td>Home</td>\n",
       "      <td>Dhaka</td>\n",
       "      <td>Basaboo</td>\n",
       "      <td>...</td>\n",
       "      <td>Home &amp; Living » Bedding » Pillows &amp; Covers</td>\n",
       "      <td>NaN</td>\n",
       "      <td>NaN</td>\n",
       "      <td>Sat</td>\n",
       "      <td>August 31, 2019</td>\n",
       "      <td>August 2019</td>\n",
       "      <td>NaN</td>\n",
       "      <td>NaN</td>\n",
       "      <td>2019-08-31</td>\n",
       "      <td>201908</td>\n",
       "    </tr>\n",
       "  </tbody>\n",
       "</table>\n",
       "<p>2 rows × 43 columns</p>\n",
       "</div>"
      ],
      "text/plain": [
       "               Order_Code  Unique order count  \\\n",
       "30244  DG-2-000001-118641                   1   \n",
       "30245  DG-2-000001-118658                   1   \n",
       "\n",
       "                              Customer     Status Payment Status      Channel  \\\n",
       "30244  Md Shahnur Arefin - 01777770235  Delivered       Complete  Store Front   \n",
       "30245   Anmol Ahmed Khan - 01686513885  Delivered       Complete  Store Front   \n",
       "\n",
       "      Shop name Delivery Type Location       Area  ...  \\\n",
       "30244         -          Home    Dhaka  Dhanmondi  ...   \n",
       "30245         -          Home    Dhaka    Basaboo  ...   \n",
       "\n",
       "                                       Category 3 Category 4 Category 5  \\\n",
       "30244                                         NaN        NaN        NaN   \n",
       "30245  Home & Living » Bedding » Pillows & Covers        NaN        NaN   \n",
       "\n",
       "      Order Created At (Day) Order Created At   Month Year Unnamed: 39  \\\n",
       "30244                    Sat  August 31, 2019  August 2019         NaN   \n",
       "30245                    Sat  August 31, 2019  August 2019         NaN   \n",
       "\n",
       "      Unnamed: 40  OrderCreatedAt  OrderCreatedMonth  \n",
       "30244         NaN      2019-08-31             201908  \n",
       "30245         NaN      2019-08-31             201908  \n",
       "\n",
       "[2 rows x 43 columns]"
      ]
     },
     "execution_count": 11,
     "metadata": {},
     "output_type": "execute_result"
    }
   ],
   "source": [
    "#creating YearMonth field for the ease of reporting and visualization\n",
    "tx_data['OrderCreatedMonth'] = tx_data['OrderCreatedAt'].map(lambda date: 100*date.year+date.month)\n",
    "tx_data.tail(2)\n"
   ]
  },
  {
   "cell_type": "code",
   "execution_count": 12,
   "metadata": {},
   "outputs": [],
   "source": [
    "#Choosing specific channels\n",
    "#tx_data = tx_data.loc[tx_data['Channel']==\"Store Front\"]\n",
    "#tx_data = tx_data.loc[tx_data['Channel']==\"Agent\"]\n"
   ]
  },
  {
   "cell_type": "code",
   "execution_count": 14,
   "metadata": {},
   "outputs": [],
   "source": [
    "tx_user = pd.DataFrame(tx_data['Customer'].unique())\n",
    "tx_user.columns = ['Customer']\n",
    "tx_user = tx_user[tx_user.Customer != 'Rahimafrooz order - 01847453147']\n",
    "tx_user = tx_user[tx_user.Customer != 'Ringku showdagar - 01917975311']\n",
    "tx_user = tx_user[tx_user.Customer != 'MD ROFIQUL ALAM - 01734332149']"
   ]
  },
  {
   "cell_type": "code",
   "execution_count": 15,
   "metadata": {},
   "outputs": [],
   "source": [
    "#get the max purchase date for each customer and create a dataframe with it\n",
    "tx_max_purchase = tx_data.groupby('Customer')['OrderCreatedAt'].max().reset_index()\n",
    "tx_max_purchase.columns = ['Customer','MaxPurchaseDate']\n",
    "tx_min_purchase = tx_data.groupby('Customer')['OrderCreatedAt'].min().reset_index()\n",
    "tx_min_purchase.columns = ['Customer','MinPurchaseDate']\n"
   ]
  },
  {
   "cell_type": "code",
   "execution_count": 16,
   "metadata": {},
   "outputs": [
    {
     "data": {
      "text/html": [
       "<div>\n",
       "<style scoped>\n",
       "    .dataframe tbody tr th:only-of-type {\n",
       "        vertical-align: middle;\n",
       "    }\n",
       "\n",
       "    .dataframe tbody tr th {\n",
       "        vertical-align: top;\n",
       "    }\n",
       "\n",
       "    .dataframe thead th {\n",
       "        text-align: right;\n",
       "    }\n",
       "</style>\n",
       "<table border=\"1\" class=\"dataframe\">\n",
       "  <thead>\n",
       "    <tr style=\"text-align: right;\">\n",
       "      <th></th>\n",
       "      <th>Customer</th>\n",
       "      <th>MinPurchaseDate</th>\n",
       "    </tr>\n",
       "  </thead>\n",
       "  <tbody>\n",
       "    <tr>\n",
       "      <th>0</th>\n",
       "      <td>\"Msr Siddik \" - 01849498585</td>\n",
       "      <td>2019-04-17</td>\n",
       "    </tr>\n",
       "    <tr>\n",
       "      <th>1</th>\n",
       "      <td>. ..  HOSSAN - 01976633552</td>\n",
       "      <td>2019-07-20</td>\n",
       "    </tr>\n",
       "    <tr>\n",
       "      <th>2</th>\n",
       "      <td>. .. HOSSAN - 01976633552</td>\n",
       "      <td>2019-05-26</td>\n",
       "    </tr>\n",
       "    <tr>\n",
       "      <th>3</th>\n",
       "      <td>. F RABBY - 01727999664</td>\n",
       "      <td>2019-03-19</td>\n",
       "    </tr>\n",
       "    <tr>\n",
       "      <th>4</th>\n",
       "      <td>. HOSSAIN - 01630909010</td>\n",
       "      <td>2019-03-18</td>\n",
       "    </tr>\n",
       "  </tbody>\n",
       "</table>\n",
       "</div>"
      ],
      "text/plain": [
       "                      Customer MinPurchaseDate\n",
       "0  \"Msr Siddik \" - 01849498585      2019-04-17\n",
       "1   . ..  HOSSAN - 01976633552      2019-07-20\n",
       "2    . .. HOSSAN - 01976633552      2019-05-26\n",
       "3      . F RABBY - 01727999664      2019-03-19\n",
       "4      . HOSSAIN - 01630909010      2019-03-18"
      ]
     },
     "execution_count": 16,
     "metadata": {},
     "output_type": "execute_result"
    }
   ],
   "source": [
    "tx_min_purchase.head()"
   ]
  },
  {
   "cell_type": "code",
   "execution_count": 17,
   "metadata": {},
   "outputs": [],
   "source": [
    "tx_user = pd.merge(tx_user,tx_max_purchase,on = \"Customer\")"
   ]
  },
  {
   "cell_type": "code",
   "execution_count": 18,
   "metadata": {},
   "outputs": [],
   "source": [
    "tx_user = pd.merge(tx_user,tx_min_purchase,on = \"Customer\")"
   ]
  },
  {
   "cell_type": "code",
   "execution_count": null,
   "metadata": {},
   "outputs": [],
   "source": []
  },
  {
   "cell_type": "code",
   "execution_count": 19,
   "metadata": {},
   "outputs": [],
   "source": [
    "tx_user['AliveTime'] = (tx_user['MaxPurchaseDate'] - tx_user['MinPurchaseDate']).dt.days"
   ]
  },
  {
   "cell_type": "code",
   "execution_count": 20,
   "metadata": {},
   "outputs": [],
   "source": [
    "tx_frequency = tx_data.groupby('Customer')['Order_Code'].nunique().reset_index()\n",
    "tx_frequency.columns = ['Customer','Frequency']"
   ]
  },
  {
   "cell_type": "code",
   "execution_count": 21,
   "metadata": {},
   "outputs": [],
   "source": [
    "tx_user = pd.merge(tx_user,tx_frequency,on = \"Customer\")\n"
   ]
  },
  {
   "cell_type": "code",
   "execution_count": 22,
   "metadata": {},
   "outputs": [],
   "source": [
    "tx_timeline = tx_user\n"
   ]
  },
  {
   "cell_type": "code",
   "execution_count": 23,
   "metadata": {},
   "outputs": [],
   "source": [
    "tx_timeline['Timeline'] = (tx_timeline['MaxPurchaseDate'].max() - tx_timeline['MinPurchaseDate']).dt.days\n",
    "tx_timeline = tx_timeline[['Customer','Timeline']]\n"
   ]
  },
  {
   "cell_type": "code",
   "execution_count": 24,
   "metadata": {},
   "outputs": [],
   "source": [
    "tx_user = tx_user.drop(['Timeline'],axis=1)\n"
   ]
  },
  {
   "cell_type": "code",
   "execution_count": 25,
   "metadata": {},
   "outputs": [],
   "source": [
    "tx_user = pd.merge(tx_user,tx_timeline,on = \"Customer\").reset_index()\n"
   ]
  },
  {
   "cell_type": "code",
   "execution_count": 26,
   "metadata": {},
   "outputs": [],
   "source": [
    "tx_user['AOT'] = 'N/A'\n",
    "tx_user.loc[tx_user['Frequency']>1,'AOT']= tx_user['AliveTime']/tx_user['Frequency']\n"
   ]
  },
  {
   "cell_type": "code",
   "execution_count": 27,
   "metadata": {},
   "outputs": [],
   "source": [
    "tx_aot=tx_user.loc[tx_user['AOT']!='N/A'].reset_index()"
   ]
  },
  {
   "cell_type": "code",
   "execution_count": 28,
   "metadata": {},
   "outputs": [],
   "source": [
    "tx_final = tx_aot.sort_values(by=['Frequency'],ascending=False)"
   ]
  },
  {
   "cell_type": "code",
   "execution_count": 30,
   "metadata": {},
   "outputs": [
    {
     "name": "stdout",
     "output_type": "stream",
     "text": [
      "Average order time for top 500 customers is: 10.95 days\n"
     ]
    }
   ],
   "source": [
    "print(\"Average order time for top 500 customers is:\",tx_final['Frequency'].head(500).mean(),\"days\")"
   ]
  },
  {
   "cell_type": "code",
   "execution_count": null,
   "metadata": {},
   "outputs": [],
   "source": []
  },
  {
   "cell_type": "code",
   "execution_count": null,
   "metadata": {},
   "outputs": [],
   "source": []
  },
  {
   "cell_type": "code",
   "execution_count": null,
   "metadata": {},
   "outputs": [],
   "source": []
  },
  {
   "cell_type": "code",
   "execution_count": null,
   "metadata": {},
   "outputs": [],
   "source": []
  },
  {
   "cell_type": "code",
   "execution_count": null,
   "metadata": {},
   "outputs": [],
   "source": []
  },
  {
   "cell_type": "code",
   "execution_count": null,
   "metadata": {},
   "outputs": [],
   "source": []
  },
  {
   "cell_type": "code",
   "execution_count": null,
   "metadata": {},
   "outputs": [],
   "source": []
  },
  {
   "cell_type": "code",
   "execution_count": null,
   "metadata": {},
   "outputs": [],
   "source": []
  },
  {
   "cell_type": "code",
   "execution_count": null,
   "metadata": {},
   "outputs": [],
   "source": []
  },
  {
   "cell_type": "code",
   "execution_count": null,
   "metadata": {},
   "outputs": [],
   "source": []
  }
 ],
 "metadata": {
  "kernelspec": {
   "display_name": "Python 3",
   "language": "python",
   "name": "python3"
  },
  "language_info": {
   "codemirror_mode": {
    "name": "ipython",
    "version": 3
   },
   "file_extension": ".py",
   "mimetype": "text/x-python",
   "name": "python",
   "nbconvert_exporter": "python",
   "pygments_lexer": "ipython3",
   "version": "3.7.3"
  }
 },
 "nbformat": 4,
 "nbformat_minor": 2
}
